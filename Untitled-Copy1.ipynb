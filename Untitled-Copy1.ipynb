{
 "cells": [
  {
   "cell_type": "code",
   "execution_count": 4,
   "metadata": {
    "collapsed": false
   },
   "outputs": [
    {
     "name": "stdout",
     "output_type": "stream",
     "text": [
      "Message: \n",
      "\n",
      "664\n",
      "==================================================\n",
      "1225\n",
      "<selenium.webdriver.remote.webelement.WebElement (session=\"e80b81ec0ea05e87b9f97bc9714191bc\", element=\"0.33611175834435514-3\")>\n",
      "<selenium.webdriver.remote.webelement.WebElement (session=\"e80b81ec0ea05e87b9f97bc9714191bc\", element=\"0.33611175834435514-4\")>\n",
      "<selenium.webdriver.remote.webelement.WebElement (session=\"e80b81ec0ea05e87b9f97bc9714191bc\", element=\"0.33611175834435514-5\")>\n",
      "<selenium.webdriver.remote.webelement.WebElement (session=\"e80b81ec0ea05e87b9f97bc9714191bc\", element=\"0.33611175834435514-6\")>\n",
      "==================================================\n",
      "==================================================\n",
      "1225\n",
      "https://www.edx.org/course/islamic-finance-banking-modes-finance-irtix-ifb102x-0\n"
     ]
    }
   ],
   "source": [
    "from selenium import webdriver\n",
    "from selenium.webdriver.common.by import By\n",
    "from selenium.webdriver.support.ui import WebDriverWait\n",
    "from selenium.webdriver.support import expected_conditions as EC\n",
    "import time\n",
    "import csv\n",
    "import re\n",
    "\n",
    "driver = webdriver.Chrome('/Users/Patrick/Downloads/chromedriver')\n",
    "driver.get('https://www.edx.org/course?language=English')\n",
    "\n",
    "csv_file = open('courses.csv', 'w')\n",
    "\n",
    "writer = csv.writer(csv_file)\n",
    "writer.writerow(['title', 'content', 'username', 'date'])\n",
    "\n",
    "wait = WebDriverWait(driver, 2)\n",
    "\n",
    "num_classes_str = driver.find_element_by_xpath('//span[@class=\"js-count result-count\"]').text\t\t#get the total number of courses\n",
    "num_classes = int((re.findall(r'\\d+', num_classes_str))[0])\t\t\t\t\t\t\t\t\t\t\t#convert course number to int\n",
    "\n",
    "page = 0\n",
    "\n",
    "while page < num_classes:\n",
    "\tdriver.execute_script(\"window.scrollTo(0, document.body.scrollHeight);\")\n",
    "\n",
    "\ttry:\n",
    "\t\tWebDriverWait(driver, 10).until(EC.visibility_of_element_located((By.XPATH, '//div[@class=\"loading\"]')))\n",
    "\t\tpage += 1\n",
    "\texcept Exception as e:\n",
    "\t\tprint(e)\n",
    "\t\tprint(page)\n",
    "\t\tbreak\n",
    "\n",
    "\n",
    "courses = driver.find_elements_by_xpath('//div[@class=\"discovery-card-inner-wrapper\"]/a[@class=\"course-link\"]')\n",
    "print('='*50)\n",
    "print(len(courses))\n",
    "print(courses[0])\n",
    "print(courses[1])\n",
    "print(courses[2])\n",
    "print(courses[3])\n",
    "print('='*50)\n",
    "course_links = []\n",
    "for course in courses:\n",
    "\tcourse_links.append(course.get_attribute('href'))\n",
    "\n",
    "print('='*50)\n",
    "print(len(course_links))\n",
    "print(course_links[0])\n"
   ]
  },
  {
   "cell_type": "code",
   "execution_count": 5,
   "metadata": {
    "collapsed": false
   },
   "outputs": [
    {
     "data": {
      "text/plain": [
       "['https://www.edx.org/course/islamic-finance-banking-modes-finance-irtix-ifb102x-0',\n",
       " 'https://www.edx.org/course/knowledge-management-big-data-business-hkpolyux-ise101x-3',\n",
       " 'https://www.edx.org/course/introduction-java-programming-part-1-hkustx-comp102-1x-8',\n",
       " 'https://www.edx.org/course/introduction-java-programming-part-2-hkustx-comp102-2x-4']"
      ]
     },
     "execution_count": 5,
     "metadata": {},
     "output_type": "execute_result"
    }
   ],
   "source": [
    "course_links_test_3 = course_links[:4]\n",
    "course_links_test_3"
   ]
  },
  {
   "cell_type": "code",
   "execution_count": null,
   "metadata": {
    "collapsed": true
   },
   "outputs": [],
   "source": [
    "\n",
    "for course_link in course_links_test_3:\n",
    "\tcourse_dict_test = {}\n",
    "\tdriver = webdriver.Chrome('/Users/Patrick/Downloads/chromedriver')\n",
    "\tdriver.get(course_link)\n",
    "\n",
    "\ttry:\n",
    "\t\ttitle = driver.find_element_by_xpath('.//*[@id=\"course-info-page\"]/header/div/div/div[2]/h1[@id=\"course-intro-heading\"]').text\n",
    "\t\tprint(title)\n",
    "        print('='*50)\n",
    "\t\tshort_description = driver.find_element_by_xpath('.//*[@id=\"course-info-page\"]/header/div/div/div[2]/p[@class=\"course-intro-lead-in\"]').text\n",
    "\t\tprint(short_description)\n",
    "        print('='*50)\n",
    "\t\tlength = driver.find_element_by_xpath('.//*[@id=\"course-summary-area\"]/ul/li[1]/span[2][@class=\"block-list__desc\"]').text\n",
    "\t\tprint(length)\n",
    "        print('='*50)\n",
    "\t\teffort = course_link.find_element_by_xpath('.//*[@id=\"course-summary-area\"]/ul/li[2]/span[2][@class=\"block-list__desc\"]').text\n",
    "\t\tprint(effort)\n",
    "        print('='*50)\n",
    "\t\tprice = course_link.find_element_by_xpath('.//*[@id=\"course-summary-area\"]/ul/li[3]/span[2]/span[@class=\"uppercase\"]').text\n",
    "\t\tprint(price)\n",
    "        print('='*50)\n",
    "\t\tinstitution = course_link.find_element_by_xpath('.//*[@id=\"course-summary-area\"]/ul/li[4]/span[2]/a').text\n",
    "\t\tprint(institution)\n",
    "        print('='*50)\n",
    "\t\tsubject = course_link.find_element_by_xpath('.//*[@id=\"course-summary-area\"]/ul/li[5]/span[2]/a').text\n",
    "\t\tprint(subject)\n",
    "        print('='*50)\n",
    "\t\tlevel = course_link.find_element_by_xpath('.//*[@id=\"course-summary-area\"]/ul/li[6]/span[2][@class=\"block-list__desc\"]').text\n",
    "\t\tprint(level)\n",
    "        print('='*50)\n",
    "\t\tlanguages = course_link.find_element_by_xpath('.//*[@id=\"course-summary-area\"]/ul/li[7]/span[2]/span').text\n",
    "\t\tprint(languages)\n",
    "        print('='*50)\n",
    "\t\tvideo_transcripts = course_link.find_element_by_xpath('.//*[@id=\"course-summary-area\"]/ul/li[8]/span[2]/span').text\n",
    "\t\tprint(video_transcripts)\n",
    "        print('='*50)\n",
    "\t\tprerequisites = course_link.find_element_by_xpath('.//*[@id=\"course-summary-area\"]/div[2]/p').text\n",
    "\t\tprint(prerequisites)\n",
    "        print('='*50)\n",
    "\n",
    "\t\tcourse_dict['title'] = title\n",
    "\t\tcourse_dict['short_description'] = short_description\n",
    "\t\tcourse_dict['length'] = length\n",
    "\t\tcourse_dict['effort'] = effort\n",
    "        course_dict['price'] = price\n",
    "\t\tcourse_dict['institution'] = institution\n",
    "\t\tcourse_dict['subject'] = subject\n",
    "\t\tcourse_dict['level'] = level\n",
    "\t\tcourse_dict['languages'] = languages\n",
    "\t\tcourse_dict['video_transcripts'] = video_transcripts\n",
    "\t\tcourse_dict['prerequisites'] = prerequisites\n",
    "\t\twriter.writerow(course_dict.values())\n",
    "\n",
    "\texcept Exception as e:\n",
    "\t\tprint(e)\n",
    "\t\tpass\n"
   ]
  }
 ],
 "metadata": {
  "anaconda-cloud": {},
  "kernelspec": {
   "display_name": "Python [conda root]",
   "language": "python",
   "name": "conda-root-py"
  },
  "language_info": {
   "codemirror_mode": {
    "name": "ipython",
    "version": 3
   },
   "file_extension": ".py",
   "mimetype": "text/x-python",
   "name": "python",
   "nbconvert_exporter": "python",
   "pygments_lexer": "ipython3",
   "version": "3.5.2"
  }
 },
 "nbformat": 4,
 "nbformat_minor": 1
}
