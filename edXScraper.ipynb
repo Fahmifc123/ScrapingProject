{
 "cells": [
  {
   "cell_type": "code",
   "execution_count": 55,
   "metadata": {
    "collapsed": false
   },
   "outputs": [],
   "source": [
    "from selenium import webdriver\n",
    "from selenium.webdriver.common.by import By\n",
    "from selenium.webdriver.support.ui import WebDriverWait\n",
    "from selenium.webdriver.support import expected_conditions as EC\n",
    "import time\n",
    "import csv\n",
    "import re\n",
    "\n",
    "driver = webdriver.Chrome('/Users/Patrick/Downloads/chromedriver')\n",
    "driver.get('https://www.edx.org/course?language=English')\n",
    "\n",
    "csv_file = open('courses_whole.csv', 'w')\n",
    "\n",
    "writer = csv.writer(csv_file)\n",
    "writer.writerow(['course_link','price', 'title', \n",
    "                 'subject', 'level', 'institution', 'length', \n",
    "                 'prerequisites', 'short_description', 'effort'])\n",
    "\n",
    "wait = WebDriverWait(driver, 2)\n"
   ]
  },
  {
   "cell_type": "code",
   "execution_count": 4,
   "metadata": {
    "collapsed": false,
    "scrolled": true
   },
   "outputs": [
    {
     "name": "stdout",
     "output_type": "stream",
     "text": [
      "Message: \n",
      "\n",
      "1257\n",
      "==================================================\n",
      "1257\n",
      "<selenium.webdriver.remote.webelement.WebElement (session=\"aae2888fc5e42e2618d93dbacef69838\", element=\"0.5939802481140002-3\")>\n",
      "<selenium.webdriver.remote.webelement.WebElement (session=\"aae2888fc5e42e2618d93dbacef69838\", element=\"0.5939802481140002-4\")>\n",
      "<selenium.webdriver.remote.webelement.WebElement (session=\"aae2888fc5e42e2618d93dbacef69838\", element=\"0.5939802481140002-5\")>\n",
      "<selenium.webdriver.remote.webelement.WebElement (session=\"aae2888fc5e42e2618d93dbacef69838\", element=\"0.5939802481140002-6\")>\n",
      "==================================================\n",
      "==================================================\n",
      "1257\n",
      "https://www.edx.org/course/introduction-web-accessibility-microsoft-dev240x\n"
     ]
    }
   ],
   "source": [
    "###this code scrapes the main course list page, returning a list###\n",
    "###of all english course links###\n",
    "\n",
    "num_classes_str = driver.find_element_by_xpath('//span[@class=\"js-count result-count\"]').text\t\t#get the total number of courses\n",
    "num_classes = int((re.findall(r'\\d+', num_classes_str))[0])\t\t\t\t\t\t\t\t\t\t\t#convert course number to int\n",
    "\n",
    "page = 0\n",
    "\n",
    "while page < num_classes:\n",
    "\tdriver.execute_script(\"window.scrollTo(0, document.body.scrollHeight);\")\n",
    "\n",
    "\ttry:\n",
    "\t\tWebDriverWait(driver, 10).until(EC.visibility_of_element_located((By.XPATH, '//div[@class=\"loading\"]')))\n",
    "\t\tpage += 1\n",
    "\texcept Exception as e:\n",
    "\t\tprint(e)\n",
    "\t\tprint(page)\n",
    "\t\tbreak\n",
    "\n",
    "\n",
    "courses = driver.find_elements_by_xpath('//div[@class=\"discovery-card-inner-wrapper\"]/a[@class=\"course-link\"]')\n",
    "print('='*50)\n",
    "print(len(courses))\n",
    "print(courses[0])\n",
    "print(courses[1])\n",
    "print(courses[2])\n",
    "print(courses[3])\n",
    "print('='*50)\n",
    "course_links = []\n",
    "for course in courses:\n",
    "\tcourse_links.append(course.get_attribute('href'))\n",
    "\n",
    "print('='*50)\n",
    "print(len(course_links))\n",
    "print(course_links[0])\n"
   ]
  },
  {
   "cell_type": "code",
   "execution_count": 27,
   "metadata": {
    "collapsed": false
   },
   "outputs": [],
   "source": [
    "###testing course info scraping with three links\n",
    "course_links_test1 = ['https://www.edx.org/course/apr-italian-language-culture-wellesleyx-apita-x', \n",
    "                     'https://www.edx.org/course/ramp-ap-biology-weston-high-school-bio101x-1',\n",
    "                     'https://www.edx.org/course/selling-ideas-how-influence-others-get-wharton-sellingideas101x-2']"
   ]
  },
  {
   "cell_type": "code",
   "execution_count": 53,
   "metadata": {
    "collapsed": false
   },
   "outputs": [],
   "source": [
    "###testing course info scraping with 50 links\n",
    "course_links_test3 = course_links[:50]\n"
   ]
  },
  {
   "cell_type": "code",
   "execution_count": 56,
   "metadata": {
    "collapsed": false
   },
   "outputs": [],
   "source": [
    "def get_title():\n",
    "    try:\n",
    "        title = driver.find_element_by_xpath('.//*[@id=\"course-info-page\"]//h1[@id=\"course-intro-heading\"]').text\n",
    "    except:\n",
    "        title = 'Missing'\n",
    "    finally:\n",
    "        return title\n",
    "\n",
    "def get_short_description():\n",
    "    try:\n",
    "        short_description = driver.find_element_by_xpath('.//*[@id=\"course-info-page\"]//p[@class=\"course-intro-lead-in\"]').text\n",
    "    except:\n",
    "        short_description = 'Missing'\n",
    "    finally:\n",
    "        return short_description\n",
    "\n",
    "def get_length():\n",
    "    try:\n",
    "        length = driver.find_element_by_xpath('.//*[@id=\"course-summary-area\"]//li[@data-field=\"length\"]/span[2]').text\n",
    "    except:\n",
    "        length = 'Missing'   \n",
    "    finally:\n",
    "        return length\n",
    "\n",
    "def get_effort():\n",
    "    try:\n",
    "        effort = driver.find_element_by_xpath('.//*[@id=\"course-summary-area\"]//li[@data-field=\"effort\"]//span[@class=\"block-list__desc\"]').text\n",
    "    except:\n",
    "        effort = 'Missing'\n",
    "    finally:\n",
    "        return effort\n",
    "\n",
    "def get_price():\n",
    "    try:\n",
    "        price = driver.find_element_by_xpath('.//*[@id=\"course-summary-area\"]//li[@data-field=\"price\"]//span[@class=\"block-list__desc\"]/span[@class=\"uppercase\"]').text\n",
    "    except:\n",
    "        try:                               \n",
    "            price = driver.find_element_by_xpath('.//*[@id=\"course-summary-area\"]//span[@class=\"fa fa-tag fa-lg\"]]/../parent::span/following-sibling::span').text()\n",
    "        except:\n",
    "            price = \"Missing\"\n",
    "    finally:\n",
    "        return price\n",
    "    \n",
    "def get_institution():\n",
    "    try:\n",
    "        institution = driver.find_element_by_xpath('.//*[@id=\"course-summary-area\"]//li[@data-field=\"school\"]/span[2]/a').text\n",
    "    except:\n",
    "        institution = 'Missing'\n",
    "    finally:\n",
    "        return institution\n",
    "\n",
    "def get_subject():\n",
    "    try:\n",
    "        subject = driver.find_element_by_xpath('.//*[@id=\"course-summary-area\"]//li[@data-field=\"subject\"]/span[2]/a').text\n",
    "    except:\n",
    "        subject = 'Missing'\n",
    "    finally:\n",
    "        return subject\n",
    "    \n",
    "def get_level():\n",
    "    try:\n",
    "        level = driver.find_element_by_xpath('.//*[@id=\"course-summary-area\"]//li[@data-field=\"level\"]//span[@class=\"block-list__desc\"]').text\n",
    "    except:\n",
    "        level = 'Missing'\n",
    "    finally:\n",
    "        return level\n",
    "\n",
    "def get_prerequisites():\n",
    "    try:\n",
    "        prerequisites = driver.find_element_by_xpath('.//*[@id=\"course-summary-area\"]/div[2]/p').text\n",
    "    except:\n",
    "        try:\n",
    "            prerequisites = driver.find_element_by_xpath('.//*[@id=\"course-summary-area\"]/div[2]/ul/li[1]')\n",
    "        except:\n",
    "            prerequisites = 'Missing'\n",
    "    finally:\n",
    "        return prerequisites\n",
    "\n",
    "    \n",
    "for course_link in course_links:\n",
    "    course_dict = {}\n",
    "    driver = webdriver.Chrome('/Users/Patrick/Downloads/chromedriver')\n",
    "    driver.get(course_link)\n",
    "    \n",
    "        \n",
    "    course_dict['link'] = course_link\n",
    "    course_dict['title'] = get_title()\n",
    "    course_dict['short_description'] = get_short_description()\n",
    "    course_dict['length'] = get_length()\n",
    "    course_dict['effort'] = get_effort()\n",
    "    course_dict['price'] = get_price()\n",
    "    course_dict['institution'] = get_institution()\n",
    "    course_dict['subject'] = get_subject()\n",
    "    course_dict['level'] = get_level()\n",
    "    course_dict['prerequisites'] = get_prerequisites()\n",
    "    writer.writerow(course_dict.values())\n",
    "    driver.close()\n",
    "    \n",
    "csv_file.close()"
   ]
  },
  {
   "cell_type": "code",
   "execution_count": null,
   "metadata": {
    "collapsed": true
   },
   "outputs": [],
   "source": []
  },
  {
   "cell_type": "code",
   "execution_count": 13,
   "metadata": {
    "collapsed": false,
    "scrolled": true
   },
   "outputs": [
    {
     "name": "stdout",
     "output_type": "stream",
     "text": [
      "Message: no such element: Unable to locate element: {\"method\":\"xpath\",\"selector\":\".//*[@id=\"course-summary-area\"]/div[2]/p\"}\n",
      "  (Session info: chrome=59.0.3071.115)\n",
      "  (Driver info: chromedriver=2.31.488774 (7e15618d1bf16df8bf0ecf2914ed1964a387ba0b),platform=Mac OS X 10.10.5 x86_64)\n",
      "\n",
      "https://www.edx.org/course/introduction-data-analysis-using-excel-microsoft-dat205x-1\n",
      "Message: no such element: Unable to locate element: {\"method\":\"xpath\",\"selector\":\".//*[@id=\"course-summary-area\"]/ul/li[8]/span[2]/span\"}\n",
      "  (Session info: chrome=59.0.3071.115)\n",
      "  (Driver info: chromedriver=2.31.488774 (7e15618d1bf16df8bf0ecf2914ed1964a387ba0b),platform=Mac OS X 10.10.5 x86_64)\n",
      "\n",
      "https://www.edx.org/course/immune-system-new-developments-research-osakaux-bio101x-0\n",
      "Message: no such element: Unable to locate element: {\"method\":\"xpath\",\"selector\":\".//*[@id=\"course-summary-area\"]/ul/li[3]/span[2]/span[@class=\"uppercase\"]\"}\n",
      "  (Session info: chrome=59.0.3071.115)\n",
      "  (Driver info: chromedriver=2.31.488774 (7e15618d1bf16df8bf0ecf2914ed1964a387ba0b),platform=Mac OS X 10.10.5 x86_64)\n",
      "\n",
      "https://www.edx.org/course/apr-italian-language-culture-wellesleyx-apita-x\n",
      "Message: no such element: Unable to locate element: {\"method\":\"xpath\",\"selector\":\".//*[@id=\"course-summary-area\"]/ul/li[3]/span[2]/span[@class=\"uppercase\"]\"}\n",
      "  (Session info: chrome=59.0.3071.115)\n",
      "  (Driver info: chromedriver=2.31.488774 (7e15618d1bf16df8bf0ecf2914ed1964a387ba0b),platform=Mac OS X 10.10.5 x86_64)\n",
      "\n",
      "https://www.edx.org/course/marketing-analytics-data-tools-wharton-marketinganalytics101x-2\n",
      "Message: no such element: Unable to locate element: {\"method\":\"xpath\",\"selector\":\".//*[@id=\"course-summary-area\"]/ul/li[3]/span[2]/span[@class=\"uppercase\"]\"}\n",
      "  (Session info: chrome=59.0.3071.115)\n",
      "  (Driver info: chromedriver=2.31.488774 (7e15618d1bf16df8bf0ecf2914ed1964a387ba0b),platform=Mac OS X 10.10.5 x86_64)\n",
      "\n",
      "https://www.edx.org/course/managing-value-customer-relationships-wharton-customervaluex-1\n",
      "Message: no such element: Unable to locate element: {\"method\":\"xpath\",\"selector\":\".//*[@id=\"course-summary-area\"]/ul/li[3]/span[2]/span[@class=\"uppercase\"]\"}\n",
      "  (Session info: chrome=59.0.3071.115)\n",
      "  (Driver info: chromedriver=2.31.488774 (7e15618d1bf16df8bf0ecf2914ed1964a387ba0b),platform=Mac OS X 10.10.5 x86_64)\n",
      "\n",
      "https://www.edx.org/course/fundamentals-digital-marketing-social-wharton-digitalmarketing1-1x\n",
      "Message: no such element: Unable to locate element: {\"method\":\"xpath\",\"selector\":\".//*[@id=\"course-summary-area\"]/ul/li[3]/span[2]/span[@class=\"uppercase\"]\"}\n",
      "  (Session info: chrome=59.0.3071.115)\n",
      "  (Driver info: chromedriver=2.31.488774 (7e15618d1bf16df8bf0ecf2914ed1964a387ba0b),platform=Mac OS X 10.10.5 x86_64)\n",
      "\n",
      "https://www.edx.org/course/selling-ideas-how-influence-others-get-wharton-sellingideas101x-2\n",
      "Message: no such element: Unable to locate element: {\"method\":\"xpath\",\"selector\":\".//*[@id=\"course-summary-area\"]/ul/li[3]/span[2]/span[@class=\"uppercase\"]\"}\n",
      "  (Session info: chrome=59.0.3071.115)\n",
      "  (Driver info: chromedriver=2.31.488774 (7e15618d1bf16df8bf0ecf2914ed1964a387ba0b),platform=Mac OS X 10.10.5 x86_64)\n",
      "\n",
      "https://www.edx.org/course/business-strategy-wharton-competitive-wharton-strategyx-2\n",
      "Message: no such element: Unable to locate element: {\"method\":\"xpath\",\"selector\":\".//*[@id=\"course-summary-area\"]/ul/li[3]/span[2]/span[@class=\"uppercase\"]\"}\n",
      "  (Session info: chrome=59.0.3071.115)\n",
      "  (Driver info: chromedriver=2.31.488774 (7e15618d1bf16df8bf0ecf2914ed1964a387ba0b),platform=Mac OS X 10.10.5 x86_64)\n",
      "\n",
      "https://www.edx.org/course/introduction-steel-tenarisuniversity-steel101x-2\n",
      "Message: no such element: Unable to locate element: {\"method\":\"xpath\",\"selector\":\".//*[@id=\"course-summary-area\"]/ul/li[3]/span[2]/span[@class=\"uppercase\"]\"}\n",
      "  (Session info: chrome=59.0.3071.115)\n",
      "  (Driver info: chromedriver=2.31.488774 (7e15618d1bf16df8bf0ecf2914ed1964a387ba0b),platform=Mac OS X 10.10.5 x86_64)\n",
      "\n",
      "https://www.edx.org/course/journalism-social-change-uc-berkeleyx-j4sc101x-1\n"
     ]
    }
   ],
   "source": [
    "\n",
    "            \n",
    "\ttry:\n",
    "\t\ttitle = driver.find_element_by_xpath('.//*[@id=\"course-info-page\"]/header/div/div/div[2]/h1[@id=\"course-intro-heading\"]').text\n",
    "\n",
    "\t\tshort_description = driver.find_element_by_xpath('.//*[@id=\"course-info-page\"]/header/div/div/div[2]/p[@class=\"course-intro-lead-in\"]').text\n",
    "\n",
    "\t\tlength = driver.find_element_by_xpath('.//*[@id=\"course-summary-area\"]/ul/li[1]/span[2][@class=\"block-list__desc\"]').text\n",
    "\n",
    "\t\teffort = driver.find_element_by_xpath('.//*[@id=\"course-summary-area\"]/ul/li[2]/span[2][@class=\"block-list__desc\"]').text\n",
    "\n",
    "\t\tprice = driver.find_element_by_xpath('.//*[@id=\"course-summary-area\"]/ul/li[3]/span[2]/span[@class=\"uppercase\"]').text\n",
    "\n",
    "\t\tinstitution = driver.find_element_by_xpath('.//*[@id=\"course-summary-area\"]/ul/li[4]/span[2]/a').text\n",
    "\n",
    "\t\tsubject = driver.find_element_by_xpath('.//*[@id=\"course-summary-area\"]/ul/li[5]/span[2]/a').text\n",
    "\n",
    "\t\tlevel = driver.find_element_by_xpath('.//*[@id=\"course-summary-area\"]/ul/li[6]/span[2][@class=\"block-list__desc\"]').text\n",
    "\n",
    "\t\tlanguages = driver.find_element_by_xpath('.//*[@id=\"course-summary-area\"]/ul/li[7]/span[2]/span').text\n",
    "\n",
    "\t\tvideo_transcripts = driver.find_element_by_xpath('.//*[@id=\"course-summary-area\"]/ul/li[8]/span[2]/span').text\n",
    "\n",
    "\t\tprerequisites = driver.find_element_by_xpath('.//*[@id=\"course-summary-area\"]/div[2]/p').text\n",
    "\n",
    "\n",
    "\t\tcourse_dict['link'] = course_link\n",
    "\t\tcourse_dict['title'] = title\n",
    "\t\tcourse_dict['short_description'] = short_description\n",
    "\t\tcourse_dict['length'] = length\n",
    "\t\tcourse_dict['effort'] = effort\n",
    "\t\tcourse_dict['price'] = price\n",
    "\t\tcourse_dict['institution'] = institution\n",
    "\t\tcourse_dict['subject'] = subject\n",
    "\t\tcourse_dict['level'] = level\n",
    "\t\tcourse_dict['languages'] = languages\n",
    "\t\tcourse_dict['video_transcripts'] = video_transcripts\n",
    "\t\tcourse_dict['prerequisites'] = prerequisites\n",
    "\t\twriter.writerow(course_dict.values())\n",
    "\t\tdriver.close()\n",
    "        \n",
    "\texcept Exception as e:\n",
    "\t\tprint(e)\n",
    "\t\tprint(course_link)\n",
    "\t\tpass\n",
    "    \n",
    "\tfinally:\n",
    "        "
   ]
  },
  {
   "cell_type": "code",
   "execution_count": 41,
   "metadata": {
    "collapsed": true
   },
   "outputs": [],
   "source": [
    "csv_file.close()"
   ]
  },
  {
   "cell_type": "code",
   "execution_count": 10,
   "metadata": {
    "collapsed": false
   },
   "outputs": [
    {
     "data": {
      "text/plain": [
       "{'effort': '3-5 hours per week',\n",
       " 'institution': 'HKUSTx',\n",
       " 'languages': 'English',\n",
       " 'length': '5 weeks',\n",
       " 'level': 'Introductory',\n",
       " 'prerequisites': 'Introduction to Java Programming Part 1 - COMP102.1x is recommended. ',\n",
       " 'price': 'FREE',\n",
       " 'short_description': 'The first MOOC to teach the fundamental elements of Java programming and data abstraction.',\n",
       " 'subject': 'Computer Science',\n",
       " 'title': 'Introduction to Java Programming – Part 2',\n",
       " 'video_transcripts': 'English'}"
      ]
     },
     "execution_count": 10,
     "metadata": {},
     "output_type": "execute_result"
    }
   ],
   "source": [
    "course_dict\n"
   ]
  },
  {
   "cell_type": "code",
   "execution_count": 12,
   "metadata": {
    "collapsed": false
   },
   "outputs": [
    {
     "data": {
      "text/plain": [
       "479"
      ]
     },
     "execution_count": 12,
     "metadata": {},
     "output_type": "execute_result"
    }
   ],
   "source": [
    "course_links.index('https://www.edx.org/course/introduction-biology-secret-life-mitx-7-00x-6')"
   ]
  },
  {
   "cell_type": "code",
   "execution_count": 14,
   "metadata": {
    "collapsed": false
   },
   "outputs": [
    {
     "data": {
      "text/plain": [
       "'https://www.edx.org/course/biobased-principles-opportunities-wageningenx-bb01x-0'"
      ]
     },
     "execution_count": 14,
     "metadata": {},
     "output_type": "execute_result"
    }
   ],
   "source": [
    "course_links[200]"
   ]
  },
  {
   "cell_type": "code",
   "execution_count": 16,
   "metadata": {
    "collapsed": false
   },
   "outputs": [
    {
     "data": {
      "text/plain": [
       "244"
      ]
     },
     "execution_count": 16,
     "metadata": {},
     "output_type": "execute_result"
    }
   ],
   "source": [
    "course_links.index('https://www.edx.org/course/digital-branding-engagement-curtinx-mkt1x-3')"
   ]
  },
  {
   "cell_type": "code",
   "execution_count": null,
   "metadata": {
    "collapsed": true
   },
   "outputs": [],
   "source": []
  }
 ],
 "metadata": {
  "anaconda-cloud": {},
  "kernelspec": {
   "display_name": "Python [conda root]",
   "language": "python",
   "name": "conda-root-py"
  },
  "language_info": {
   "codemirror_mode": {
    "name": "ipython",
    "version": 3
   },
   "file_extension": ".py",
   "mimetype": "text/x-python",
   "name": "python",
   "nbconvert_exporter": "python",
   "pygments_lexer": "ipython3",
   "version": "3.5.2"
  }
 },
 "nbformat": 4,
 "nbformat_minor": 1
}
