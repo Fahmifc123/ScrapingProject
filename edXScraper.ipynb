{
 "cells": [
  {
   "cell_type": "markdown",
   "metadata": {},
   "source": [
    "# edX Web Scraping Project \n",
    "\n",
    "\n",
    "\n",
    "### Patrick Masi-Phelps\n",
    "### NYCDSA Cohort 10\n",
    "\n",
    "\n",
    "#### This document shows the code used to scrape edX's courses offered in English as of July 28, 2017. "
   ]
  },
  {
   "cell_type": "markdown",
   "metadata": {},
   "source": [
    "#### The purpose of this excercise was to successfully scrape edX's website for information on online courses currently offered, and then conduct exploratory data analysis on the scraped data. This information could be useful for educational institutions - getting a clear picture of the current supply and characteristics of MOOCs could better inform current and potential market participants. This can also be useful for students looking understand the availability of alternative online options."
   ]
  },
  {
   "cell_type": "markdown",
   "metadata": {},
   "source": [
    "### 1. Import packages, initialize driver, and open csv writer"
   ]
  },
  {
   "cell_type": "code",
   "execution_count": 55,
   "metadata": {
    "collapsed": false
   },
   "outputs": [],
   "source": [
    "from selenium import webdriver\n",
    "from selenium.webdriver.common.by import By\n",
    "from selenium.webdriver.support.ui import WebDriverWait\n",
    "from selenium.webdriver.support import expected_conditions as EC\n",
    "import time\n",
    "import csv\n",
    "import re\n",
    "\n",
    "driver = webdriver.Chrome('path to driver')\n",
    "\n",
    "#main edX page of all English courses -- this scraper excludes edX courses in other languages\n",
    "driver.get('https://www.edx.org/course?language=English')\n",
    "\n",
    "#open a new blank csv\n",
    "csv_file = open('courses_whole.csv', 'w')\n",
    "\n",
    "writer = csv.writer(csv_file)\n",
    "\n",
    "#write column headers for each of the variables to scrape\n",
    "writer.writerow(['course_link','price', 'title', \n",
    "                 'subject', 'level', 'institution', 'length', \n",
    "                 'prerequisites', 'short_description', 'effort'])\n",
    "\n"
   ]
  },
  {
   "cell_type": "markdown",
   "metadata": {},
   "source": [
    "### 2. Scrape the main course page \n",
    "#### Link: https://www.edx.org/course?language=English"
   ]
  },
  {
   "cell_type": "code",
   "execution_count": 4,
   "metadata": {
    "collapsed": false,
    "scrolled": true
   },
   "outputs": [
    {
     "name": "stdout",
     "output_type": "stream",
     "text": [
      "Message: \n",
      "\n",
      "1257\n",
      "==================================================\n",
      "1257\n",
      "<selenium.webdriver.remote.webelement.WebElement (session=\"aae2888fc5e42e2618d93dbacef69838\", element=\"0.5939802481140002-3\")>\n",
      "<selenium.webdriver.remote.webelement.WebElement (session=\"aae2888fc5e42e2618d93dbacef69838\", element=\"0.5939802481140002-4\")>\n",
      "<selenium.webdriver.remote.webelement.WebElement (session=\"aae2888fc5e42e2618d93dbacef69838\", element=\"0.5939802481140002-5\")>\n",
      "<selenium.webdriver.remote.webelement.WebElement (session=\"aae2888fc5e42e2618d93dbacef69838\", element=\"0.5939802481140002-6\")>\n",
      "==================================================\n",
      "==================================================\n",
      "1257\n",
      "https://www.edx.org/course/introduction-web-accessibility-microsoft-dev240x\n"
     ]
    }
   ],
   "source": [
    "###   this code scrapes the main course list page, returning a list of all english course links\n",
    "\n",
    "#edX lists the total number of courses on the top of the main page. This scrapes that number.\n",
    "num_classes_str = driver.find_element_by_xpath('//span[@class=\"js-count result-count\"]').text\n",
    "\n",
    "#convert total course number to an integer\n",
    "num_classes = int((re.findall(r'\\d+', num_classes_str))[0])\n",
    "\n",
    "#initialize page number = 0\n",
    "page = 0\n",
    "\n",
    "###   this while loop scrolls down the main course page until all courses are loaded\n",
    "\n",
    "while page < num_classes:\n",
    "    \n",
    "    #driver does an initial scroll down to bottom of the page\n",
    "    driver.execute_script(\"window.scrollTo(0, document.body.scrollHeight);\")\n",
    "    \n",
    "    #this try command waits until it can see the \"loading...\" icon. Once it sees the icon, we add 1 to page counter\n",
    "    #and continue at the top of the while loop to do another scroll\n",
    "    try:\n",
    "        WebDriverWait(driver, 10).until(EC.visibility_of_element_located((By.XPATH, '//div[@class=\"loading\"]')))\n",
    "        page += 1\n",
    "    \n",
    "    #when the driver waits 10 seconds and still cannot see the \"loading...\" icon, it will raise an exception\n",
    "    #at this point, we will be at bottom of the page, all courses visible, break out of the loop\n",
    "    except Exception as e:\n",
    "        print(e)\n",
    "        print(page)\n",
    "        break\n",
    "\n",
    "#get a list of all course link xpath elements\n",
    "courses = driver.find_elements_by_xpath('//div[@class=\"discovery-card-inner-wrapper\"]/a[@class=\"course-link\"]')\n",
    "    \n",
    "#initialize empty list\n",
    "course_links = []\n",
    "\n",
    "#for each course link xpath, grab the link itself (the href element) and append it to the course_link list\n",
    "for course in courses:\n",
    "    course_links.append(course.get_attribute('href'))\n",
    "\n"
   ]
  },
  {
   "cell_type": "markdown",
   "metadata": {},
   "source": [
    "#### (Some optional test code)"
   ]
  },
  {
   "cell_type": "code",
   "execution_count": 27,
   "metadata": {
    "collapsed": false
   },
   "outputs": [],
   "source": [
    "###   optional testing code to scrape a sample of courses\n",
    "###   course_links_test1 = ['https://www.edx.org/course/apr-italian-language-culture-wellesleyx-apita-x', \n",
    "###                         'https://www.edx.org/course/ramp-ap-biology-weston-high-school-bio101x-1',\n",
    "###                         'https://www.edx.org/course/selling-ideas-how-influence-others-get-wharton-sellingideas101x-2']"
   ]
  },
  {
   "cell_type": "markdown",
   "metadata": {},
   "source": [
    "### 3. Scrape the individual course pages"
   ]
  },
  {
   "cell_type": "code",
   "execution_count": 56,
   "metadata": {
    "collapsed": false
   },
   "outputs": [],
   "source": [
    "###each of these functions returns the corresponding value from each edX course page###\n",
    "###if the scraper can't find a value, it returns the string 'Missing'###\n",
    "\n",
    "#get title of course\n",
    "def get_title():\n",
    "    try:\n",
    "        title = driver.find_element_by_xpath('.//*[@id=\"course-info-page\"]//h1[@id=\"course-intro-heading\"]').text\n",
    "    except:\n",
    "        title = 'Missing'\n",
    "    finally:\n",
    "        return title\n",
    "\n",
    "#get short description of course\n",
    "def get_short_description():\n",
    "    try:\n",
    "        short_description = driver.find_element_by_xpath('.//*[@id=\"course-info-page\"]//p[@class=\"course-intro-lead-in\"]').text\n",
    "    except:\n",
    "        short_description = 'Missing'\n",
    "    finally:\n",
    "        return short_description\n",
    "\n",
    "#get length of course (typically number of weeks, or total number of hours)\n",
    "def get_length():\n",
    "    try:\n",
    "        length = driver.find_element_by_xpath('.//*[@id=\"course-summary-area\"]//li[@data-field=\"length\"]/span[2]').text\n",
    "    except:\n",
    "        length = 'Missing'   \n",
    "    finally:\n",
    "        return length\n",
    "\n",
    "#get the effort of course (typically hours per week, or total course hours)\n",
    "def get_effort():\n",
    "    try:\n",
    "        effort = driver.find_element_by_xpath('.//*[@id=\"course-summary-area\"]//li[@data-field=\"effort\"]//span[@class=\"block-list__desc\"]').text\n",
    "    except:\n",
    "        effort = 'Missing'\n",
    "    finally:\n",
    "        return effort\n",
    "\n",
    "#get the price of course. The first \"try\" only works for free courses. This grabs the text \"FREE\" by xpath\n",
    "#to get the price of not-free courses, the \"except, try\" gets the unique \"tag\" icon, then jumps to the parent \n",
    "#span class, then to a sibling span class to get the price amount. Unfortunately, the price amount doesn't \n",
    "#have a unique identifier.\n",
    "\n",
    "def get_price():\n",
    "    try:\n",
    "        price = driver.find_element_by_xpath('.//*[@id=\"course-summary-area\"]//li[@data-field=\"price\"]//span[@class=\"block-list__desc\"]/span[@class=\"uppercase\"]').text\n",
    "    except:\n",
    "        try:                               \n",
    "            price = driver.find_element_by_xpath('.//*[@id=\"course-summary-area\"]//span[@class=\"fa fa-tag fa-lg\"]]/../parent::span/following-sibling::span').text()\n",
    "        except:\n",
    "            price = \"Missing\"\n",
    "    finally:\n",
    "        return price\n",
    "    \n",
    "#gets the institution\n",
    "def get_institution():\n",
    "    try:\n",
    "        institution = driver.find_element_by_xpath('.//*[@id=\"course-summary-area\"]//li[@data-field=\"school\"]/span[2]/a').text\n",
    "    except:\n",
    "        institution = 'Missing'\n",
    "    finally:\n",
    "        return institution\n",
    "\n",
    "#gets the subject\n",
    "def get_subject():\n",
    "    try:\n",
    "        subject = driver.find_element_by_xpath('.//*[@id=\"course-summary-area\"]//li[@data-field=\"subject\"]/span[2]/a').text\n",
    "    except:\n",
    "        subject = 'Missing'\n",
    "    finally:\n",
    "        return subject\n",
    "\n",
    "#gets the level (introductory, intermediate, advanced)\n",
    "def get_level():\n",
    "    try:\n",
    "        level = driver.find_element_by_xpath('.//*[@id=\"course-summary-area\"]//li[@data-field=\"level\"]//span[@class=\"block-list__desc\"]').text\n",
    "    except:\n",
    "        level = 'Missing'\n",
    "    finally:\n",
    "        return level\n",
    "\n",
    "#gets the prerequisites, if any\n",
    "def get_prerequisites():\n",
    "    try:\n",
    "        prerequisites = driver.find_element_by_xpath('.//*[@id=\"course-summary-area\"]/div[2]/p').text\n",
    "    except:\n",
    "        try:\n",
    "            prerequisites = driver.find_element_by_xpath('.//*[@id=\"course-summary-area\"]/div[2]/ul/li[1]')\n",
    "        except:\n",
    "            prerequisites = 'Missing'\n",
    "    finally:\n",
    "        return prerequisites\n",
    "\n",
    "###  this for loop:\n",
    "###     1) iterates through each of the course links\n",
    "###     2) creates a new empty dictionary\n",
    "###     3) directs the driver to the link\n",
    "###     4) calls each of the scraping functions above and saves the return values in the dictionary\n",
    "###     5) writes the dictionary values out to the csv\n",
    "\n",
    "for course_link in course_links:\n",
    "    course_dict = {}\n",
    "    driver = webdriver.Chrome('/Users/Patrick/Downloads/chromedriver')\n",
    "    driver.get(course_link)\n",
    "    \n",
    "        \n",
    "    course_dict['link'] = course_link\n",
    "    course_dict['title'] = get_title()\n",
    "    course_dict['short_description'] = get_short_description()\n",
    "    course_dict['length'] = get_length()\n",
    "    course_dict['effort'] = get_effort()\n",
    "    course_dict['price'] = get_price()\n",
    "    course_dict['institution'] = get_institution()\n",
    "    course_dict['subject'] = get_subject()\n",
    "    course_dict['level'] = get_level()\n",
    "    course_dict['prerequisites'] = get_prerequisites()\n",
    "    writer.writerow(course_dict.values())\n",
    "    driver.close()\n",
    "\n",
    "#close the csv once all course info is scraped\n",
    "csv_file.close()"
   ]
  }
 ],
 "metadata": {
  "anaconda-cloud": {},
  "kernelspec": {
   "display_name": "Python [conda root]",
   "language": "python",
   "name": "conda-root-py"
  },
  "language_info": {
   "codemirror_mode": {
    "name": "ipython",
    "version": 3
   },
   "file_extension": ".py",
   "mimetype": "text/x-python",
   "name": "python",
   "nbconvert_exporter": "python",
   "pygments_lexer": "ipython3",
   "version": "3.5.2"
  }
 },
 "nbformat": 4,
 "nbformat_minor": 1
}
